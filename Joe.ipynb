{
 "cells": [
  {
   "cell_type": "markdown",
   "metadata": {},
   "source": [
    "## Copula\n",
    "\n",
    "### 1.  A short introduction to Copula\n",
    "\n",
    "Copula is a multivariate probability distribution with special characteristics(for which the marginal probability distribution of each variable is uniform). Usually, there are some copula families like Gaussian copula, Archimedean copulas and so on, with similar forms of generator functions which are used to generate its pdf, cdf... They all have parameters in their generator funtion that control the strength of dependence."
   ]
  },
  {
   "cell_type": "markdown",
   "metadata": {},
   "source": [
    "### 2. Code of archimedean copula\n",
    "\n",
    "#### 2.1 Python packages needed\n",
    "\n",
    "We need three python packages: Numpy, Sympy, Scipy.\n",
    "- Numpy: we use 'ndarray' as our input and output. So Numpy is a fundamental package that provides with its data structures.\n",
    "- Sympy: we use sympy to generate high order of differentiation to calculate the pdf. We had planned to scipy to get differebtaition, however, after testing the result from scipy in high order of differentiation, we found there were great error in its results. By contrast sympy has accurate results, so we choose it.\n",
    "- Scipy: we use scipy to integrate to get the value of tau. Scipy can be replaced by sympy if needed. We can discuss about which to use."
   ]
  },
  {
   "cell_type": "code",
   "execution_count": 3,
   "metadata": {
    "collapsed": true
   },
   "outputs": [],
   "source": [
    "# ---- import packages -----\n",
    "import numpy as np\n",
    "import sympy as sp\n",
    "from scipy import integrate\n"
   ]
  },
  {
   "cell_type": "markdown",
   "metadata": {},
   "source": [
    "#### 2.2 Archimedean Copula\n",
    "\n",
    "Archimedean copulas are an associative class of copulas. Most common Archimedean copulas admit an explicit formula. In practice, Archimedean copulas are popular because they allow modeling dependence in arbitrarily high dimensions with only one parameter, governing the strength of dependence.\n",
    "\n",
    "Due to the differences between Archimedean Copula and Ellip Copula and functions we may use, we plan to divide the whole copula class to two parts, which means Archimedean Copula doesn't inherit from any class. Archimedean and Ellip are two seperated classes.\n",
    "\n",
    "![](https://github.com/codeandworld/photo/blob/master/copula_pic.JPG?raw=true)"
   ]
  },
  {
   "cell_type": "code",
   "execution_count": 4,
   "metadata": {
    "collapsed": false
   },
   "outputs": [],
   "source": [
    "# ---- Aechemidean Coupla -----\n",
    "class ArcmCopula(object):\n",
    "    \"\"\"\n",
    "    Note to reader: Each bivariate copula should be its own subclass that implements the following methods.\n",
    "    \"\"\"\n",
    "\n",
    "    def __init__(self):\n",
    "        pass\n",
    "\n",
    "    def pdf(self):\n",
    "        \"\"\"\n",
    "        Evaluate the probability distribution function (pdf) at a point (u,v) for a parameter theta\n",
    "        \"\"\"\n",
    "        pass\n",
    "\n",
    "    def cdf(self):\n",
    "        \"\"\"\n",
    "        Evaluate the cumulative distribution function (cdf) at a point (u,v) for a parameter theta\n",
    "        \"\"\"\n",
    "        pass\n",
    "\n",
    "    def rvs(self):\n",
    "        \"\"\"\n",
    "        Generate a simulation for the copula given a specified parameter theta.\n",
    "        \"\"\"\n",
    "        pass\n",
    "\n",
    "    def rho(self):\n",
    "        \"\"\"\n",
    "        Calculate Spearman's rho for the copula given a specified parameter theta.\n",
    "        \"\"\"\n",
    "        pass\n",
    "\n",
    "    def tau(self):\n",
    "        \"\"\"\n",
    "        Calculate Kendall's tau for the copula given a specified parameter theta.\n",
    "        \"\"\"\n",
    "        pass"
   ]
  },
  {
   "cell_type": "markdown",
   "metadata": {},
   "source": [
    "#### 2.3 Joe Copula \n",
    "\n",
    "Joe copula is one of the Archimedean copulas. The Class Joe Copula includes four functions, pdf, cdf, rvs and tau. All can be calsulated through the generator function.\n",
    "\n",
    "- cdf: cdf can be calculated using the combination of generator funtion and inverse generator function.\n",
    "- pdf: pdf can be calculated using the combination of generator funtion and the high order differentiation of inverse generator function. Here, we firstly generate the high order differentiation by Sympy. Then combine all the formula together.\n",
    "- rvs: rvs can be generated using Monte Carlo simulation. We generate random numbers and put the right one in the array.\n",
    "- tau: tau can be calculated using generator funtion."
   ]
  },
  {
   "cell_type": "code",
   "execution_count": 4,
   "metadata": {
    "collapsed": false
   },
   "outputs": [],
   "source": [
    "# ---- Joe Coupla -----\n",
    "class JoeCopula(object): # object waiting to change \n",
    "    \"\"\"\n",
    "    An joe_copula with one parameter theta.\n",
    "    Get pdf, cdf, rvs, tau given 2D-ndarray,\n",
    "    seeing each row as a point in distribution.\n",
    "    \n",
    "    Parameters\n",
    "    ----------\n",
    "        x: 2D-ndarray;\n",
    "           number in x should be between (0,1);\n",
    "    theta: float;\n",
    "           number should larger than one\n",
    "    \n",
    "    Examples\n",
    "    -----------\n",
    "    x = np.array([[0.1,0.2,0.3],[0.2,0.3,0.4]])\n",
    "    myjoe = JoeCopula()\n",
    "    myjoe.pdf(x,1.2)\n",
    "    \"\"\"\n",
    "    def __init__(self):\n",
    "        pass\n",
    "    \n",
    "    def cdf(self, x, theta):\n",
    "        \"\"\"\n",
    "        genarator function : f(x)\n",
    "        inverse genarator function : g(x)\n",
    "        X = (x1, x2, ... ,xn)\n",
    "        cdf(X) = g(f(x1)+f(x2)+...+f(xn))\n",
    "        \"\"\"\n",
    "        term = np.sum(-np.log(1.0-(1.0-x)**theta),axis=-1)\n",
    "        return 1.0-(1.0-np.exp(-term))**(1.0/theta)\n",
    "    \n",
    "    def pdf(self, x, theta):\n",
    "        \"\"\"\n",
    "        genarator function : f(x)\n",
    "        inverse genarator function : g(x)\n",
    "        X = (x1, x2, ... ,xn)\n",
    "        pdf(X) = g^{(-n)}(f(x1)+f(x2)+...+f(xn))f'(x1)f'(x2)...f'(xn)\n",
    "        \"\"\"\n",
    "        dim = x.shape[-1]\n",
    "        term = np.sum(-np.log(1.0-(1.0-x)**theta),axis=-1)\n",
    "        \n",
    "        # get the differentiation of the genarator function and inverse genarator function\n",
    "        t = sp.Symbol('t')\n",
    "        f1 = 1.0-(1.0-sp.exp(-t))**(1.0/theta)\n",
    "        for i in range(dim):\n",
    "            f1 = sp.diff(f1,t)\n",
    "        f2 = -sp.log(1.0-(1.0-t)**theta)                       \n",
    "        f2 = sp.diff(f2,t)\n",
    "        \n",
    "        # get ufunc of the differentiation equation\n",
    "        u1 = lambda z: f1.subs(t,z)\n",
    "        u1 = np.frompyfunc(u1,1,1)\n",
    "        u2 = lambda z: f2.subs(t,z)\n",
    "        u2 = np.frompyfunc(u2,1,1)\n",
    "        return u1(term)*np.prod(u2(x),axis=-1)\n",
    "    \n",
    "    def rvs(self, n, dim, theta):\n",
    "        \"\"\"\n",
    "        Monte Carlo simulation using JoeCopula.pdf(self, k, theta)\n",
    "        \"\"\"\n",
    "        i = 0\n",
    "        while(i<n):\n",
    "            k = np.random.random_sample(dim)\n",
    "            if theta*np.random.random_sample(1)< JoeCopula.pdf(self, k, theta):\n",
    "                if i == 0:\n",
    "                    sample = k\n",
    "                else:\n",
    "                    sample = np.vstack((sample,k))\n",
    "                i = i+1\n",
    "        return sample\n",
    "\n",
    "    def tau(self, x, theta):\n",
    "        \"\"\"\n",
    "        genarator function : f(t)\n",
    "        $$tau(x)=1+\\int^1_0 \\frac{f(t)}{f'(t)}dt$$\n",
    "        \"\"\"\n",
    "        f = lambda t: np.log(1.0-(1.0-t)**theta)/(theta*(1.0-t)**(theta-1.0)/(1.0-(1.0-t)**theta))# f = (-log(1-(1-t)^theta)) / (theta*(1-t)^theta/(1-(1-t)^theta))\n",
    "        return 1.0+4.0*integrate.quad(f, 0, 1.0)[0]\n",
    "       "
   ]
  },
  {
   "cell_type": "markdown",
   "metadata": {},
   "source": [
    "### 3. Result testing comparing with R"
   ]
  },
  {
   "cell_type": "markdown",
   "metadata": {},
   "source": [
    "##### 3.1 R and Python code for testing pdf \n"
   ]
  },
  {
   "cell_type": "code",
   "execution_count": 5,
   "metadata": {
    "collapsed": false
   },
   "outputs": [
    {
     "data": {
      "text/plain": [
       "array([1.13307613035283, 1.09741762777262], dtype=object)"
      ]
     },
     "execution_count": 5,
     "metadata": {},
     "output_type": "execute_result"
    }
   ],
   "source": [
    "x = np.array([[0.1,0.2,0.3],[0.2,0.3,0.4]])\n",
    "myjoe = JoeCopula()\n",
    "myjoe.pdf(x, 1.1)"
   ]
  },
  {
   "cell_type": "code",
   "execution_count": 13,
   "metadata": {
    "collapsed": false
   },
   "outputs": [
    {
     "data": {
      "text/html": [
       "1.13307613035283"
      ],
      "text/latex": [
       "1.13307613035283"
      ],
      "text/markdown": [
       "1.13307613035283"
      ],
      "text/plain": [
       "[1] 1.133076"
      ]
     },
     "metadata": {},
     "output_type": "display_data"
    }
   ],
   "source": [
    "library(copula)\n",
    "joe.cop <- joeCopula(1.1, dim=3)\n",
    "x <- dCopula(c(0.1,0.2,0.3),joe.cop)\n",
    "x"
   ]
  },
  {
   "cell_type": "markdown",
   "metadata": {},
   "source": [
    "##### 3.2 R and Python code for testing cdf \n"
   ]
  },
  {
   "cell_type": "code",
   "execution_count": 7,
   "metadata": {
    "collapsed": false
   },
   "outputs": [
    {
     "data": {
      "text/plain": [
       "array([ 0.0070295 ,  0.02764251])"
      ]
     },
     "execution_count": 7,
     "metadata": {},
     "output_type": "execute_result"
    }
   ],
   "source": [
    "myjoe.cdf(x, 1.1)"
   ]
  },
  {
   "cell_type": "code",
   "execution_count": 14,
   "metadata": {
    "collapsed": false
   },
   "outputs": [
    {
     "data": {
      "text/html": [
       "0.00702950373890476"
      ],
      "text/latex": [
       "0.00702950373890476"
      ],
      "text/markdown": [
       "0.00702950373890476"
      ],
      "text/plain": [
       "[1] 0.007029504"
      ]
     },
     "metadata": {},
     "output_type": "display_data"
    }
   ],
   "source": [
    "joe.cop <- joeCopula(1.1, dim=3)\n",
    "pCopula(c(0.1,0.2,0.3),joe.cop)"
   ]
  },
  {
   "cell_type": "markdown",
   "metadata": {},
   "source": [
    "##### 3.3 R and Python code for testing tau \n"
   ]
  },
  {
   "cell_type": "code",
   "execution_count": 6,
   "metadata": {
    "collapsed": false
   },
   "outputs": [
    {
     "data": {
      "text/plain": [
       "0.05439832056368421"
      ]
     },
     "execution_count": 6,
     "metadata": {},
     "output_type": "execute_result"
    }
   ],
   "source": [
    "myjoe.tau(x, 1.1)"
   ]
  },
  {
   "cell_type": "code",
   "execution_count": 15,
   "metadata": {
    "collapsed": false
   },
   "outputs": [
    {
     "data": {
      "text/html": [
       "0.0543983205646499"
      ],
      "text/latex": [
       "0.0543983205646499"
      ],
      "text/markdown": [
       "0.0543983205646499"
      ],
      "text/plain": [
       "[1] 0.05439832"
      ]
     },
     "metadata": {},
     "output_type": "display_data"
    }
   ],
   "source": [
    "joe.cop <- joeCopula(1.1, dim=3)\n",
    "tau(joe.cop)"
   ]
  },
  {
   "cell_type": "markdown",
   "metadata": {},
   "source": [
    "##### 3.4 Python code for testing rvs"
   ]
  },
  {
   "cell_type": "code",
   "execution_count": 9,
   "metadata": {
    "collapsed": false
   },
   "outputs": [
    {
     "data": {
      "text/plain": [
       "array([[ 0.89689821,  0.20786522,  0.14268674,  0.43908519],\n",
       "       [ 0.67671012,  0.70005462,  0.70013851,  0.17352006],\n",
       "       [ 0.89842734,  0.90756495,  0.3997748 ,  0.52008395]])"
      ]
     },
     "execution_count": 9,
     "metadata": {},
     "output_type": "execute_result"
    }
   ],
   "source": [
    "myjoe.rvs(n=3,dim=4,theta=1.2)"
   ]
  },
  {
   "cell_type": "markdown",
   "metadata": {
    "collapsed": true
   },
   "source": [
    "### 4. Problems facing"
   ]
  },
  {
   "cell_type": "markdown",
   "metadata": {
    "collapsed": true
   },
   "source": [
    "Although the functions have been done, but there are still some problems we may need to discuss about.\n",
    "- First is about the design of the class. We plan to write two seperated class, one is Gaussian Copual, the other is Archimedean copula.Joe can extend from Archimedean copula. Gaussian and Archimedean have lots of differences not only in their generation, but also in their functions. We also refer to matlab and R code of copula, they both have two seperated classes. What is your point about that?\n",
    "- Second is about rvs. Now we use Monte Carlo simulation to calculate random numbers. And we have to calculate them one by one. In R, it seems that there are some functions can be used to generate random numbers. However, i havent seen any theory about generating random numbers in my book. Do you know how to generate them?\n",
    "- For integration, i tested both the scipy and sympy. Considering the precision of their results, sympy must be a better choice. However, we have to use one more packages. Totally, we should import three packages. What do you think about that reducing the dependence or having precise answers? \n"
   ]
  },
  {
   "cell_type": "code",
   "execution_count": null,
   "metadata": {
    "collapsed": true
   },
   "outputs": [],
   "source": []
  }
 ],
 "metadata": {
  "anaconda-cloud": {},
  "kernelspec": {
   "display_name": "R",
   "language": "R",
   "name": "ir"
  },
  "language_info": {
   "codemirror_mode": "r",
   "file_extension": ".r",
   "mimetype": "text/x-r-source",
   "name": "R",
   "pygments_lexer": "r",
   "version": "3.4.1"
  }
 },
 "nbformat": 4,
 "nbformat_minor": 1
}
